{
 "cells": [
  {
   "cell_type": "code",
   "execution_count": 2,
   "id": "da5e6513-699a-43ce-ae6a-a43a6b7af1d3",
   "metadata": {},
   "outputs": [
    {
     "name": "stdout",
     "output_type": "stream",
     "text": [
      "Collecting netcdf4\n",
      "  Downloading netCDF4-1.5.8-cp39-cp39-manylinux_2_17_x86_64.manylinux2014_x86_64.whl (4.7 MB)\n",
      "\u001b[2K     \u001b[90m━━━━━━━━━━━━━━━━━━━━━━━━━━━━━━━━━━━━━━━━\u001b[0m \u001b[32m4.7/4.7 MB\u001b[0m \u001b[31m5.6 MB/s\u001b[0m eta \u001b[36m0:00:00\u001b[0m00:01\u001b[0m00:01\u001b[0m\n",
      "\u001b[?25hCollecting cftime\n",
      "  Downloading cftime-1.6.0-cp39-cp39-manylinux_2_17_x86_64.manylinux2014_x86_64.whl (239 kB)\n",
      "\u001b[2K     \u001b[90m━━━━━━━━━━━━━━━━━━━━━━━━━━━━━━━━━━━━━\u001b[0m \u001b[32m239.4/239.4 KB\u001b[0m \u001b[31m860.0 kB/s\u001b[0m eta \u001b[36m0:00:00\u001b[0m00:01\u001b[0m00:01\u001b[0m\n",
      "\u001b[?25hRequirement already satisfied: numpy>=1.9 in /opt/conda/lib/python3.9/site-packages (from netcdf4) (1.21.5)\n",
      "Installing collected packages: cftime, netcdf4\n",
      "Successfully installed cftime-1.6.0 netcdf4-1.5.8\n"
     ]
    }
   ],
   "source": [
    "!pip install netcdf4"
   ]
  },
  {
   "cell_type": "code",
   "execution_count": 31,
   "id": "6ac6faea-df5a-42b3-aa99-5166fce96c93",
   "metadata": {},
   "outputs": [],
   "source": [
    "import netCDF4 as nc4"
   ]
  },
  {
   "cell_type": "code",
   "execution_count": 32,
   "id": "6a723ca3-eb90-435a-9dcf-604600a12643",
   "metadata": {},
   "outputs": [],
   "source": [
    "ncPath = \"../output/test.nc\"\n",
    "nc = nc4.Dataset(ncPath, \"w\", format=\"NETCDF4\")"
   ]
  },
  {
   "cell_type": "code",
   "execution_count": 33,
   "id": "96760010-77ec-4988-a06a-d4c08c42b987",
   "metadata": {},
   "outputs": [],
   "source": [
    "lonList = [1,1]\n",
    "latList = [2,1]\n",
    "tempList = [[1,2], [1,2]]"
   ]
  },
  {
   "cell_type": "code",
   "execution_count": 34,
   "id": "ab800bcc-2912-4a7d-a4ca-5c784804692e",
   "metadata": {},
   "outputs": [
    {
     "data": {
      "text/plain": [
       "<class 'netCDF4._netCDF4.Variable'>\n",
       "int16 temp(y, x)\n",
       "    _FillValue: -31073\n",
       "unlimited dimensions: \n",
       "current shape = (1, 1)\n",
       "filling on"
      ]
     },
     "execution_count": 34,
     "metadata": {},
     "output_type": "execute_result"
    }
   ],
   "source": [
    "temp"
   ]
  },
  {
   "cell_type": "code",
   "execution_count": 35,
   "id": "fe7176ba-5f8a-448b-9157-4fe92f73cab4",
   "metadata": {},
   "outputs": [
    {
     "data": {
      "text/plain": [
       "<class 'netCDF4._netCDF4.Variable'>\n",
       "int16 lon(x)\n",
       "unlimited dimensions: \n",
       "current shape = (1,)\n",
       "filling on, default _FillValue of -32767 used"
      ]
     },
     "execution_count": 35,
     "metadata": {},
     "output_type": "execute_result"
    }
   ],
   "source": [
    "lon"
   ]
  },
  {
   "cell_type": "code",
   "execution_count": 36,
   "id": "c65d5939-9408-4cfd-9e58-ac2dfc91b115",
   "metadata": {},
   "outputs": [
    {
     "data": {
      "text/plain": [
       "<class 'netCDF4._netCDF4.Dimension'>: name = 'y', size = 2"
      ]
     },
     "execution_count": 36,
     "metadata": {},
     "output_type": "execute_result"
    }
   ],
   "source": [
    "nc.createDimension(\"x\", len(lonList))\n",
    "nc.createDimension(\"y\", len(latList))"
   ]
  },
  {
   "cell_type": "code",
   "execution_count": 37,
   "id": "6a7bd29c-c8a8-4990-99d9-e17982800c6e",
   "metadata": {},
   "outputs": [],
   "source": [
    "lon = nc.createVariable(\"lon\", \"i2\", \"x\")\n",
    "lat = nc.createVariable(\"lat\", \"i2\", \"y\")\n",
    "temp = nc.createVariable(\"temp\", \"i2\", (\"y\", \"x\"), fill_value=99999)"
   ]
  },
  {
   "cell_type": "code",
   "execution_count": 38,
   "id": "5483bb9f-ef36-4d65-8b41-19de921fb3c1",
   "metadata": {},
   "outputs": [],
   "source": [
    "lon[:], lat[:], temp[:, :] = lonList, latList, tempList"
   ]
  },
  {
   "cell_type": "code",
   "execution_count": 39,
   "id": "0ce99695-a570-4a5d-a61d-1622f8f4ba50",
   "metadata": {},
   "outputs": [],
   "source": [
    "# nc.close()"
   ]
  },
  {
   "cell_type": "code",
   "execution_count": null,
   "id": "1e22ca1f-ab63-4d2d-8232-8b57a46ec34e",
   "metadata": {},
   "outputs": [],
   "source": []
  },
  {
   "cell_type": "code",
   "execution_count": 41,
   "id": "5d5f8b91-3f09-4a95-8566-23c6db633f6a",
   "metadata": {},
   "outputs": [
    {
     "ename": "RuntimeError",
     "evalue": "NetCDF: Not a valid ID",
     "output_type": "error",
     "traceback": [
      "\u001b[0;31m---------------------------------------------------------------------------\u001b[0m",
      "\u001b[0;31mRuntimeError\u001b[0m                              Traceback (most recent call last)",
      "Input \u001b[0;32mIn [41]\u001b[0m, in \u001b[0;36m<module>\u001b[0;34m\u001b[0m\n\u001b[0;32m----> 1\u001b[0m nc\u001b[38;5;241m.\u001b[39mhistory \u001b[38;5;241m=\u001b[39m \u001b[38;5;124m\"\u001b[39m\u001b[38;5;124mCreate New\u001b[39m\u001b[38;5;124m\"\u001b[39m\n\u001b[1;32m      2\u001b[0m temp\u001b[38;5;241m.\u001b[39mlong_name \u001b[38;5;241m=\u001b[39m \u001b[38;5;124m\"\u001b[39m\u001b[38;5;124mTemperature\u001b[39m\u001b[38;5;124m\"\u001b[39m\n\u001b[1;32m      3\u001b[0m temp\u001b[38;5;241m.\u001b[39munits \u001b[38;5;241m=\u001b[39m \u001b[38;5;124m\"\u001b[39m\u001b[38;5;124mDegree of Celsius\u001b[39m\u001b[38;5;124m\"\u001b[39m\n",
      "File \u001b[0;32msrc/netCDF4/_netCDF4.pyx:2894\u001b[0m, in \u001b[0;36mnetCDF4._netCDF4.Dataset.__setattr__\u001b[0;34m()\u001b[0m\n",
      "File \u001b[0;32msrc/netCDF4/_netCDF4.pyx:2824\u001b[0m, in \u001b[0;36mnetCDF4._netCDF4.Dataset.setncattr\u001b[0;34m()\u001b[0m\n",
      "File \u001b[0;32msrc/netCDF4/_netCDF4.pyx:1592\u001b[0m, in \u001b[0;36mnetCDF4._netCDF4._set_att\u001b[0;34m()\u001b[0m\n",
      "File \u001b[0;32msrc/netCDF4/_netCDF4.pyx:1523\u001b[0m, in \u001b[0;36mnetCDF4._netCDF4._get_format\u001b[0;34m()\u001b[0m\n",
      "File \u001b[0;32msrc/netCDF4/_netCDF4.pyx:1927\u001b[0m, in \u001b[0;36mnetCDF4._netCDF4._ensure_nc_success\u001b[0;34m()\u001b[0m\n",
      "\u001b[0;31mRuntimeError\u001b[0m: NetCDF: Not a valid ID"
     ]
    }
   ],
   "source": [
    "nc.history = \"Create New\"\n",
    "temp.long_name = \"Temperature\"\n",
    "temp.units = \"Degree of Celsius\""
   ]
  },
  {
   "cell_type": "code",
   "execution_count": null,
   "id": "ae953d3f-201c-4094-8dc3-086922e62fee",
   "metadata": {},
   "outputs": [],
   "source": []
  }
 ],
 "metadata": {
  "kernelspec": {
   "display_name": "Python 3 (ipykernel)",
   "language": "python",
   "name": "python3"
  },
  "language_info": {
   "codemirror_mode": {
    "name": "ipython",
    "version": 3
   },
   "file_extension": ".py",
   "mimetype": "text/x-python",
   "name": "python",
   "nbconvert_exporter": "python",
   "pygments_lexer": "ipython3",
   "version": "3.9.10"
  }
 },
 "nbformat": 4,
 "nbformat_minor": 5
}
